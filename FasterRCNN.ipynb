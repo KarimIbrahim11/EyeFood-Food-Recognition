{
 "cells": [
  {
   "cell_type": "code",
   "execution_count": null,
   "metadata": {
    "collapsed": true
   },
   "outputs": [],
   "source": [
    "import torch\n",
    "import torchvision\n",
    "from torchvision import transforms\n",
    "from torchvision.models.detection.faster_rcnn import FastRCNNPredictor\n",
    "from torch import nn\n",
    "from torch.utils.data import DataLoader, Dataset\n",
    "from sklearn.model_selection import train_test_split\n",
    "import matplotlib.pyplot as plt\n",
    "import os\n",
    "import numpy as np\n",
    "import cv2\n",
    "from tqdm import tqdm"
   ]
  },
  {
   "cell_type": "code",
   "execution_count": null,
   "outputs": [],
   "source": [
    "def LoadFoodData(folder_path, n_cls):\n",
    "  targets = []\n",
    "  images = []\n",
    "  boxes, labels, image_id, iscrowd = [], [], [], []\n",
    "  for i in tqdm(range(1, n_cls+1)):\n",
    "    info = {}\n",
    "    path = os.path.join(folder_path, str(i))\n",
    "    file = open(path + '/bb_info.txt')\n",
    "    txt = file.read()\n",
    "    file.close()\n",
    "    txt = txt.split('\\n')\n",
    "    # Making a dict of text file\n",
    "    for j in txt[1:]:\n",
    "      if len(j) > 0:\n",
    "        temp = j.split(' ')\n",
    "        info[temp[0]] = [int(x) for x in temp[1:]]\n",
    "    # For loading images and targets\n",
    "    for key in info:\n",
    "      target = {}\n",
    "      filename = os.path.join(path, key + '.jpg')\n",
    "      img = cv2.imread(filename)\n",
    "      img = cv2.cvtColor(img, cv2.COLOR_BGR2RGB)\n",
    "      y, x = img.shape[0], img.shape[1]\n",
    "\n",
    "      x_scalar = 224/x\n",
    "      y_scalar = 224/y\n",
    "      x1 = int(info[key][0]*x_scalar)\n",
    "      y1 = int(info[key][1]*y_scalar)\n",
    "      x2 = int(info[key][2]*x_scalar)\n",
    "      y2 = int(info[key][3]*y_scalar)\n",
    "      poly = [x1, y1, x2, y2]\n",
    "      area = (poly[0]-poly[2]) * (poly[1]-poly[3])\n",
    "      poly = torch.tensor(poly)\n",
    "      poly = torch.unsqueeze(poly, 0)\n",
    "\n",
    "      target['boxes'] = poly\n",
    "      target['labels'] = torch.tensor([int(i)])\n",
    "      target['image_id'] = torch.tensor([int(key)])\n",
    "      target['area'] = torch.tensor([area])\n",
    "      target['iscrowd'] = torch.tensor([0])\n",
    "\n",
    "      images.append(img)\n",
    "      targets.append(target)\n",
    "\n",
    "  return images, targets"
   ],
   "metadata": {
    "collapsed": false,
    "pycharm": {
     "name": "#%%\n"
    }
   }
  },
  {
   "cell_type": "code",
   "execution_count": null,
   "outputs": [],
   "source": [
    "class FoodData(Dataset):\n",
    "  def __init__(self, images, targets, transforms=None):\n",
    "    self.images = images\n",
    "    self.targets = targets\n",
    "    self.transforms = transforms\n",
    "\n",
    "  def __len__(self):\n",
    "    return len(self.images)\n",
    "\n",
    "\n",
    "  def __getitem__(self, idx):\n",
    "    image = self.images[idx]\n",
    "    target = self.targets[idx]\n",
    "    image = torchvision.transforms.ToPILImage()(image)\n",
    "    if self.transforms:\n",
    "      image = self.transforms(image)\n",
    "    return image, target\n",
    "\n",
    "def collate(batch):\n",
    "  return tuple(zip(*batch))"
   ],
   "metadata": {
    "collapsed": false,
    "pycharm": {
     "name": "#%%\n"
    }
   }
  },
  {
   "cell_type": "code",
   "execution_count": null,
   "outputs": [],
   "source": [
    "images, targets = LoadFoodData('UECFOOD100', 100)\n",
    "\n",
    "train_images, test_images, train_targets, test_targets = train_test_split(images, targets, test_size = 0.2, random_state = 7)"
   ],
   "metadata": {
    "collapsed": false,
    "pycharm": {
     "name": "#%%\n"
    }
   }
  },
  {
   "cell_type": "code",
   "execution_count": null,
   "outputs": [],
   "source": [
    "transform = torchvision.transforms.Compose([transforms.Resize((224,224)),\n",
    "                                           transforms.ToTensor(),\n",
    "                                           transforms.Normalize([0.5,], [0.5,])])\n",
    "traindata = FoodData(train_images, train_targets, transform)\n",
    "trainloader = DataLoader(traindata, batch_size=16, shuffle=True, collate_fn=collate, num_workers=4)"
   ],
   "metadata": {
    "collapsed": false,
    "pycharm": {
     "name": "#%%\n"
    }
   }
  },
  {
   "cell_type": "code",
   "execution_count": null,
   "outputs": [],
   "source": [
    "model = torchvision.models.detection.fasterrcnn_resnet50_fpn(pretrained=True)\n",
    "num_classes = 100\n",
    "in_features = model.roi_heads.box_predictor.cls_score.in_features\n",
    "model.roi_heads.box_predictor = FastRCNNPredictor(in_features, num_classes)"
   ],
   "metadata": {
    "collapsed": false,
    "pycharm": {
     "name": "#%%\n"
    }
   }
  },
  {
   "cell_type": "code",
   "execution_count": null,
   "outputs": [],
   "source": [
    "device = torch.device('cuda')"
   ],
   "metadata": {
    "collapsed": false,
    "pycharm": {
     "name": "#%%\n"
    }
   }
  },
  {
   "cell_type": "code",
   "execution_count": null,
   "outputs": [],
   "source": [
    "model.to(device)\n",
    "params = [p for p in model.parameters() if p.requires_grad]\n",
    "optimizer = torch.optim.Adam(params, lr=3e-4)"
   ],
   "metadata": {
    "collapsed": false,
    "pycharm": {
     "name": "#%%\n"
    }
   }
  },
  {
   "cell_type": "code",
   "execution_count": null,
   "outputs": [],
   "source": [
    "import warnings\n",
    "warnings.filterwarnings('ignore')"
   ],
   "metadata": {
    "collapsed": false,
    "pycharm": {
     "name": "#%%\n"
    }
   }
  },
  {
   "cell_type": "code",
   "execution_count": null,
   "outputs": [],
   "source": [
    "epochs = 4\n",
    "iteration = 100\n",
    "itr = 0\n",
    "loss = 0\n",
    "for e in range(epochs):\n",
    "  print('Epoch {}'.format(e+1))\n",
    "  for img, tar in trainloader:\n",
    "    img = list(image.to(device) for image in img)\n",
    "    tar = [{k: v.to(device) for k, v in t.items()} for t in tar]\n",
    "\n",
    "    optimizer.zero_grad()\n",
    "    loss_dict = model(img, tar)\n",
    "    losses = sum(loss for loss in loss_dict.values())\n",
    "    loss_value = losses.item()\n",
    "    losses.backward()\n",
    "    optimizer.step()\n",
    "\n",
    "    loss += loss_value\n",
    "    itr += 1\n",
    "    if (itr%iteration == 0):\n",
    "      print('Iteration:{}\\tLoss:{}'.format(itr, (loss/iteration)))\n",
    "      loss = 0"
   ],
   "metadata": {
    "collapsed": false,
    "pycharm": {
     "name": "#%%\n"
    }
   }
  },
  {
   "cell_type": "code",
   "execution_count": null,
   "outputs": [],
   "source": [
    "torch.save(model.state_dict(), 'fasterrcnn_foodtracker.pth')"
   ],
   "metadata": {
    "collapsed": false,
    "pycharm": {
     "name": "#%%\n"
    }
   }
  }
 ],
 "metadata": {
  "kernelspec": {
   "display_name": "Python 3",
   "language": "python",
   "name": "python3"
  },
  "language_info": {
   "codemirror_mode": {
    "name": "ipython",
    "version": 2
   },
   "file_extension": ".py",
   "mimetype": "text/x-python",
   "name": "python",
   "nbconvert_exporter": "python",
   "pygments_lexer": "ipython2",
   "version": "2.7.6"
  }
 },
 "nbformat": 4,
 "nbformat_minor": 0
}